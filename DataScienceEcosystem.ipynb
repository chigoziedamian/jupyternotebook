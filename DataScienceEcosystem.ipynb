{
 "cells": [
  {
   "cell_type": "raw",
   "id": "e678e936-a9b4-448b-86eb-bb9a28b960cf",
   "metadata": {},
   "source": [
    "# Exercise 2: Create markdown cell with title of the notebook\n",
    "# Create a markdown cell with the title Data Science Tools and Ecosystem using H1 style heading."
   ]
  },
  {
   "cell_type": "markdown",
   "id": "bb4a87f2-daab-4aa7-b9fa-6df6ebc0ac22",
   "metadata": {
    "tags": []
   },
   "source": [
    "# Data Science Tools and Ecosystem"
   ]
  },
  {
   "cell_type": "raw",
   "id": "65fdd0e9-d6f1-438b-a148-82cd00001fda",
   "metadata": {},
   "source": [
    "# Exercise 3 - Create a markdown cell for an introduction\n",
    "# Write an introductory sentence about the notebook such as the follows:\n",
    "# In this notebook, Data Science Tools and Ecosystem are summarized."
   ]
  },
  {
   "cell_type": "markdown",
   "id": "9d1a643d-aec0-425f-b4bd-92449ece48dc",
   "metadata": {},
   "source": [
    "In this notebook, Data Science Tools and Ecosystem are summarized."
   ]
  },
  {
   "cell_type": "markdown",
   "id": "936abc06-c0af-4dab-a6fc-a5341d21e685",
   "metadata": {
    "tags": []
   },
   "source": [
    "**Objectives:**\n",
    "- List of popular languages that Data Scientists use\n",
    "- Some of the commonly used libraries used by Data Scientists\n",
    "- Data Science tools\n",
    "- Evaluating arithmetic expressions in Python"
   ]
  },
  {
   "cell_type": "raw",
   "id": "57fdf74e-2342-4303-868e-7e33d8fa4304",
   "metadata": {},
   "source": [
    "# Exercise 4 - Create a markdown cell to list data science languages\n",
    "# Start the cell with an overview line such as:\n",
    "# Some of the popular languages that Data Scientists use are:\n",
    "# Then create an ordered list (i.e. numbered) listing 3 (or more) commonly used languages for data science."
   ]
  },
  {
   "cell_type": "markdown",
   "id": "aaae21fc-0bc4-4b4b-b704-f5057e313a74",
   "metadata": {},
   "source": [
    "**Some of the popular languages that Data Scientists use are:**\n",
    "1. Python\n",
    "2. Scala\n",
    "3. Java\n",
    "4. R"
   ]
  },
  {
   "cell_type": "raw",
   "id": "e84038d3-269e-43ab-b93d-1a656193933a",
   "metadata": {},
   "source": [
    "# Exercise 5 - Create a markdown cell to list data science libraries\n",
    "# Add an overview line to the cell like:\n",
    "# Some of the commonly used libraries used by Data Scientists include:\n",
    "# Below this line add an ordered list listing 3 (or more) commonly used libraries in data science."
   ]
  },
  {
   "cell_type": "markdown",
   "id": "db9cc9ca-6f26-4bf0-9cc8-4002139cb9ed",
   "metadata": {},
   "source": [
    "**Some of the commonly used libraries used by Data Scientists include:**\n",
    "1. ggplot\n",
    "2. NumPy\n",
    "3. Tensorflow"
   ]
  },
  {
   "cell_type": "raw",
   "id": "c0e35ad7-8a56-41a9-a9de-aa78e4372f0c",
   "metadata": {},
   "source": [
    "# Exercise 6 - Create a markdown cell with a table of Data Science tools\n",
    "# Create a single column table in this cell with the first row containing the header Data Science Tools. \n",
    "# The subsequent three rows in the table should indicate three development environment open source tools used in data science."
   ]
  },
  {
   "cell_type": "markdown",
   "id": "7ab5f7d3-2ef5-4f7d-b02d-4c7da6a7c6fc",
   "metadata": {},
   "source": [
    "|Data Science Tools | \n",
    "| ------ \n",
    "| MySQL |\n",
    "|PostgreSQL |\n",
    "| Apache Cassandra |"
   ]
  },
  {
   "cell_type": "raw",
   "id": "3f355542-a58d-4b42-9f93-c0c5ef6af7ca",
   "metadata": {},
   "source": [
    "# Exercise 7 - Create a markdown cell introducing arithmetic expression examples\n",
    "# Add a line in this cell with H3 style heading with text like:"
   ]
  },
  {
   "cell_type": "markdown",
   "id": "cf69106b-c94e-4069-b608-91be980f30ad",
   "metadata": {},
   "source": [
    "### Below are a few examples of evaluating arithmetic expressions in Python."
   ]
  },
  {
   "cell_type": "code",
   "execution_count": 3,
   "id": "4e86f158-8b61-4f9f-9294-720b421509c1",
   "metadata": {
    "tags": []
   },
   "outputs": [
    {
     "data": {
      "text/plain": [
       "17"
      ]
     },
     "execution_count": 3,
     "metadata": {},
     "output_type": "execute_result"
    }
   ],
   "source": [
    "# Exercise 8 - Create a code cell to multiply and add numbers\n",
    "# This a simple arithmetic expression to mutiply then add integers\n",
    "(3*4)+5"
   ]
  },
  {
   "cell_type": "raw",
   "id": "90b43439-8a1e-4a57-a283-d850b1627119",
   "metadata": {},
   "source": [
    "# Exercise 9 - Create a code cell to convert minutes to hours\n",
    "# In this code cell write an expression that converts 200 minutes into hours.\n",
    "# Insert a comment line before the expression to explain the operation e.g. This will convert 200 minutes to hours by diving by 60."
   ]
  },
  {
   "cell_type": "code",
   "execution_count": 4,
   "id": "e15edfba-1f4f-42f2-9873-5765800d2792",
   "metadata": {
    "tags": []
   },
   "outputs": [
    {
     "data": {
      "text/plain": [
       "3.3333333333333335"
      ]
     },
     "execution_count": 4,
     "metadata": {},
     "output_type": "execute_result"
    }
   ],
   "source": [
    "# This will convert 200 minutes to hours by diving by 60. \n",
    "(200/60)"
   ]
  },
  {
   "cell_type": "raw",
   "id": "73ef2274-cd52-442d-a6f6-4afa49b98571",
   "metadata": {},
   "source": [
    "#Exercise 11 - Create a markdown cell to indicate the Author's name\n",
    "#In this markdown cell markdown cell include the following text Author in H2 style heading. #Include your name as regular text below the word Author."
   ]
  },
  {
   "cell_type": "markdown",
   "id": "e26d8bff-03d9-4231-8bee-f2a3c0951a30",
   "metadata": {},
   "source": [
    "# H2 Author\n",
    "Okali Chigozie"
   ]
  }
 ],
 "metadata": {
  "kernelspec": {
   "display_name": "Python",
   "language": "python",
   "name": "conda-env-python-py"
  },
  "language_info": {
   "codemirror_mode": {
    "name": "ipython",
    "version": 3
   },
   "file_extension": ".py",
   "mimetype": "text/x-python",
   "name": "python",
   "nbconvert_exporter": "python",
   "pygments_lexer": "ipython3",
   "version": "3.7.12"
  }
 },
 "nbformat": 4,
 "nbformat_minor": 5
}
